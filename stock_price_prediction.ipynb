{
 "cells": [
  {
   "cell_type": "code",
   "execution_count": 27,
   "id": "6d0e2c76-d8a0-466a-9fae-9182899dced7",
   "metadata": {},
   "outputs": [],
   "source": [
    "import pandas as pd\n",
    "import numpy as np\n",
    "import seaborn as sns"
   ]
  },
  {
   "cell_type": "code",
   "execution_count": 109,
   "id": "7a1d4701-ffeb-4371-9946-e15f67ab276e",
   "metadata": {},
   "outputs": [],
   "source": [
    "data=pd.read_csv('BAJFINANCE.csv')"
   ]
  },
  {
   "cell_type": "code",
   "execution_count": 110,
   "id": "d97097f2-9208-4174-bd38-3b76f52389f3",
   "metadata": {},
   "outputs": [
    {
     "data": {
      "text/html": [
       "<div>\n",
       "<style scoped>\n",
       "    .dataframe tbody tr th:only-of-type {\n",
       "        vertical-align: middle;\n",
       "    }\n",
       "\n",
       "    .dataframe tbody tr th {\n",
       "        vertical-align: top;\n",
       "    }\n",
       "\n",
       "    .dataframe thead th {\n",
       "        text-align: right;\n",
       "    }\n",
       "</style>\n",
       "<table border=\"1\" class=\"dataframe\">\n",
       "  <thead>\n",
       "    <tr style=\"text-align: right;\">\n",
       "      <th></th>\n",
       "      <th>Date</th>\n",
       "      <th>Symbol</th>\n",
       "      <th>Series</th>\n",
       "      <th>Prev Close</th>\n",
       "      <th>Open</th>\n",
       "      <th>High</th>\n",
       "      <th>Low</th>\n",
       "      <th>Last</th>\n",
       "      <th>Close</th>\n",
       "      <th>VWAP</th>\n",
       "      <th>Volume</th>\n",
       "      <th>Turnover</th>\n",
       "      <th>Trades</th>\n",
       "      <th>Deliverable Volume</th>\n",
       "      <th>%Deliverble</th>\n",
       "    </tr>\n",
       "  </thead>\n",
       "  <tbody>\n",
       "    <tr>\n",
       "      <th>0</th>\n",
       "      <td>2000-01-03</td>\n",
       "      <td>BAJAUTOFIN</td>\n",
       "      <td>EQ</td>\n",
       "      <td>46.95</td>\n",
       "      <td>49.45</td>\n",
       "      <td>50.75</td>\n",
       "      <td>46.50</td>\n",
       "      <td>50.75</td>\n",
       "      <td>50.75</td>\n",
       "      <td>50.05</td>\n",
       "      <td>7600</td>\n",
       "      <td>3.803800e+10</td>\n",
       "      <td>NaN</td>\n",
       "      <td>NaN</td>\n",
       "      <td>NaN</td>\n",
       "    </tr>\n",
       "    <tr>\n",
       "      <th>1</th>\n",
       "      <td>2000-01-04</td>\n",
       "      <td>BAJAUTOFIN</td>\n",
       "      <td>EQ</td>\n",
       "      <td>50.75</td>\n",
       "      <td>53.20</td>\n",
       "      <td>53.20</td>\n",
       "      <td>47.90</td>\n",
       "      <td>48.00</td>\n",
       "      <td>48.10</td>\n",
       "      <td>48.56</td>\n",
       "      <td>5000</td>\n",
       "      <td>2.428000e+10</td>\n",
       "      <td>NaN</td>\n",
       "      <td>NaN</td>\n",
       "      <td>NaN</td>\n",
       "    </tr>\n",
       "    <tr>\n",
       "      <th>2</th>\n",
       "      <td>2000-01-05</td>\n",
       "      <td>BAJAUTOFIN</td>\n",
       "      <td>EQ</td>\n",
       "      <td>48.10</td>\n",
       "      <td>46.55</td>\n",
       "      <td>47.40</td>\n",
       "      <td>44.60</td>\n",
       "      <td>44.60</td>\n",
       "      <td>44.60</td>\n",
       "      <td>45.47</td>\n",
       "      <td>3500</td>\n",
       "      <td>1.591450e+10</td>\n",
       "      <td>NaN</td>\n",
       "      <td>NaN</td>\n",
       "      <td>NaN</td>\n",
       "    </tr>\n",
       "    <tr>\n",
       "      <th>3</th>\n",
       "      <td>2000-01-06</td>\n",
       "      <td>BAJAUTOFIN</td>\n",
       "      <td>EQ</td>\n",
       "      <td>44.60</td>\n",
       "      <td>43.50</td>\n",
       "      <td>46.00</td>\n",
       "      <td>42.10</td>\n",
       "      <td>46.00</td>\n",
       "      <td>45.25</td>\n",
       "      <td>44.43</td>\n",
       "      <td>6200</td>\n",
       "      <td>2.754750e+10</td>\n",
       "      <td>NaN</td>\n",
       "      <td>NaN</td>\n",
       "      <td>NaN</td>\n",
       "    </tr>\n",
       "    <tr>\n",
       "      <th>4</th>\n",
       "      <td>2000-01-07</td>\n",
       "      <td>BAJAUTOFIN</td>\n",
       "      <td>EQ</td>\n",
       "      <td>45.25</td>\n",
       "      <td>48.00</td>\n",
       "      <td>48.00</td>\n",
       "      <td>42.00</td>\n",
       "      <td>42.90</td>\n",
       "      <td>42.90</td>\n",
       "      <td>44.44</td>\n",
       "      <td>3500</td>\n",
       "      <td>1.555550e+10</td>\n",
       "      <td>NaN</td>\n",
       "      <td>NaN</td>\n",
       "      <td>NaN</td>\n",
       "    </tr>\n",
       "    <tr>\n",
       "      <th>...</th>\n",
       "      <td>...</td>\n",
       "      <td>...</td>\n",
       "      <td>...</td>\n",
       "      <td>...</td>\n",
       "      <td>...</td>\n",
       "      <td>...</td>\n",
       "      <td>...</td>\n",
       "      <td>...</td>\n",
       "      <td>...</td>\n",
       "      <td>...</td>\n",
       "      <td>...</td>\n",
       "      <td>...</td>\n",
       "      <td>...</td>\n",
       "      <td>...</td>\n",
       "      <td>...</td>\n",
       "    </tr>\n",
       "    <tr>\n",
       "      <th>5065</th>\n",
       "      <td>2020-08-25</td>\n",
       "      <td>BAJFINANCE</td>\n",
       "      <td>EQ</td>\n",
       "      <td>3492.05</td>\n",
       "      <td>3525.00</td>\n",
       "      <td>3660.00</td>\n",
       "      <td>3510.00</td>\n",
       "      <td>3658.00</td>\n",
       "      <td>3642.90</td>\n",
       "      <td>3579.12</td>\n",
       "      <td>9854070</td>\n",
       "      <td>3.526895e+15</td>\n",
       "      <td>339815.0</td>\n",
       "      <td>1498309.0</td>\n",
       "      <td>0.1520</td>\n",
       "    </tr>\n",
       "    <tr>\n",
       "      <th>5066</th>\n",
       "      <td>2020-08-26</td>\n",
       "      <td>BAJFINANCE</td>\n",
       "      <td>EQ</td>\n",
       "      <td>3642.90</td>\n",
       "      <td>3665.00</td>\n",
       "      <td>3707.00</td>\n",
       "      <td>3631.00</td>\n",
       "      <td>3638.20</td>\n",
       "      <td>3645.55</td>\n",
       "      <td>3668.17</td>\n",
       "      <td>6665336</td>\n",
       "      <td>2.444958e+15</td>\n",
       "      <td>213994.0</td>\n",
       "      <td>944373.0</td>\n",
       "      <td>0.1417</td>\n",
       "    </tr>\n",
       "    <tr>\n",
       "      <th>5067</th>\n",
       "      <td>2020-08-27</td>\n",
       "      <td>BAJFINANCE</td>\n",
       "      <td>EQ</td>\n",
       "      <td>3645.55</td>\n",
       "      <td>3656.95</td>\n",
       "      <td>3668.40</td>\n",
       "      <td>3596.40</td>\n",
       "      <td>3636.00</td>\n",
       "      <td>3632.50</td>\n",
       "      <td>3631.13</td>\n",
       "      <td>4611132</td>\n",
       "      <td>1.674361e+15</td>\n",
       "      <td>162374.0</td>\n",
       "      <td>387513.0</td>\n",
       "      <td>0.0840</td>\n",
       "    </tr>\n",
       "    <tr>\n",
       "      <th>5068</th>\n",
       "      <td>2020-08-28</td>\n",
       "      <td>BAJFINANCE</td>\n",
       "      <td>EQ</td>\n",
       "      <td>3632.50</td>\n",
       "      <td>3650.00</td>\n",
       "      <td>3688.00</td>\n",
       "      <td>3617.05</td>\n",
       "      <td>3672.05</td>\n",
       "      <td>3670.80</td>\n",
       "      <td>3652.77</td>\n",
       "      <td>4251575</td>\n",
       "      <td>1.553003e+15</td>\n",
       "      <td>137033.0</td>\n",
       "      <td>434147.0</td>\n",
       "      <td>0.1021</td>\n",
       "    </tr>\n",
       "    <tr>\n",
       "      <th>5069</th>\n",
       "      <td>2020-08-31</td>\n",
       "      <td>BAJFINANCE</td>\n",
       "      <td>EQ</td>\n",
       "      <td>3670.80</td>\n",
       "      <td>3715.00</td>\n",
       "      <td>3749.85</td>\n",
       "      <td>3465.00</td>\n",
       "      <td>3478.50</td>\n",
       "      <td>3487.80</td>\n",
       "      <td>3602.93</td>\n",
       "      <td>8529788</td>\n",
       "      <td>3.073224e+15</td>\n",
       "      <td>293454.0</td>\n",
       "      <td>1321559.0</td>\n",
       "      <td>0.1549</td>\n",
       "    </tr>\n",
       "  </tbody>\n",
       "</table>\n",
       "<p>5070 rows × 15 columns</p>\n",
       "</div>"
      ],
      "text/plain": [
       "            Date      Symbol Series  Prev Close     Open     High      Low  \\\n",
       "0     2000-01-03  BAJAUTOFIN     EQ       46.95    49.45    50.75    46.50   \n",
       "1     2000-01-04  BAJAUTOFIN     EQ       50.75    53.20    53.20    47.90   \n",
       "2     2000-01-05  BAJAUTOFIN     EQ       48.10    46.55    47.40    44.60   \n",
       "3     2000-01-06  BAJAUTOFIN     EQ       44.60    43.50    46.00    42.10   \n",
       "4     2000-01-07  BAJAUTOFIN     EQ       45.25    48.00    48.00    42.00   \n",
       "...          ...         ...    ...         ...      ...      ...      ...   \n",
       "5065  2020-08-25  BAJFINANCE     EQ     3492.05  3525.00  3660.00  3510.00   \n",
       "5066  2020-08-26  BAJFINANCE     EQ     3642.90  3665.00  3707.00  3631.00   \n",
       "5067  2020-08-27  BAJFINANCE     EQ     3645.55  3656.95  3668.40  3596.40   \n",
       "5068  2020-08-28  BAJFINANCE     EQ     3632.50  3650.00  3688.00  3617.05   \n",
       "5069  2020-08-31  BAJFINANCE     EQ     3670.80  3715.00  3749.85  3465.00   \n",
       "\n",
       "         Last    Close     VWAP   Volume      Turnover    Trades  \\\n",
       "0       50.75    50.75    50.05     7600  3.803800e+10       NaN   \n",
       "1       48.00    48.10    48.56     5000  2.428000e+10       NaN   \n",
       "2       44.60    44.60    45.47     3500  1.591450e+10       NaN   \n",
       "3       46.00    45.25    44.43     6200  2.754750e+10       NaN   \n",
       "4       42.90    42.90    44.44     3500  1.555550e+10       NaN   \n",
       "...       ...      ...      ...      ...           ...       ...   \n",
       "5065  3658.00  3642.90  3579.12  9854070  3.526895e+15  339815.0   \n",
       "5066  3638.20  3645.55  3668.17  6665336  2.444958e+15  213994.0   \n",
       "5067  3636.00  3632.50  3631.13  4611132  1.674361e+15  162374.0   \n",
       "5068  3672.05  3670.80  3652.77  4251575  1.553003e+15  137033.0   \n",
       "5069  3478.50  3487.80  3602.93  8529788  3.073224e+15  293454.0   \n",
       "\n",
       "      Deliverable Volume  %Deliverble  \n",
       "0                    NaN          NaN  \n",
       "1                    NaN          NaN  \n",
       "2                    NaN          NaN  \n",
       "3                    NaN          NaN  \n",
       "4                    NaN          NaN  \n",
       "...                  ...          ...  \n",
       "5065           1498309.0       0.1520  \n",
       "5066            944373.0       0.1417  \n",
       "5067            387513.0       0.0840  \n",
       "5068            434147.0       0.1021  \n",
       "5069           1321559.0       0.1549  \n",
       "\n",
       "[5070 rows x 15 columns]"
      ]
     },
     "execution_count": 110,
     "metadata": {},
     "output_type": "execute_result"
    }
   ],
   "source": [
    "df=data.copy()\n",
    "data"
   ]
  },
  {
   "cell_type": "markdown",
   "id": "06b3643d-aeaa-4b61-8d09-69ba56a8678e",
   "metadata": {},
   "source": [
    "# EDA"
   ]
  },
  {
   "cell_type": "code",
   "execution_count": 111,
   "id": "c6765e7e-3b73-4f31-b7ab-e45359f0f5fd",
   "metadata": {},
   "outputs": [
    {
     "data": {
      "text/html": [
       "<div>\n",
       "<style scoped>\n",
       "    .dataframe tbody tr th:only-of-type {\n",
       "        vertical-align: middle;\n",
       "    }\n",
       "\n",
       "    .dataframe tbody tr th {\n",
       "        vertical-align: top;\n",
       "    }\n",
       "\n",
       "    .dataframe thead th {\n",
       "        text-align: right;\n",
       "    }\n",
       "</style>\n",
       "<table border=\"1\" class=\"dataframe\">\n",
       "  <thead>\n",
       "    <tr style=\"text-align: right;\">\n",
       "      <th></th>\n",
       "      <th>Symbol</th>\n",
       "      <th>Series</th>\n",
       "      <th>Prev Close</th>\n",
       "      <th>Open</th>\n",
       "      <th>High</th>\n",
       "      <th>Low</th>\n",
       "      <th>Last</th>\n",
       "      <th>Close</th>\n",
       "      <th>VWAP</th>\n",
       "      <th>Volume</th>\n",
       "      <th>Turnover</th>\n",
       "      <th>Trades</th>\n",
       "      <th>Deliverable Volume</th>\n",
       "      <th>%Deliverble</th>\n",
       "    </tr>\n",
       "    <tr>\n",
       "      <th>Date</th>\n",
       "      <th></th>\n",
       "      <th></th>\n",
       "      <th></th>\n",
       "      <th></th>\n",
       "      <th></th>\n",
       "      <th></th>\n",
       "      <th></th>\n",
       "      <th></th>\n",
       "      <th></th>\n",
       "      <th></th>\n",
       "      <th></th>\n",
       "      <th></th>\n",
       "      <th></th>\n",
       "      <th></th>\n",
       "    </tr>\n",
       "  </thead>\n",
       "  <tbody>\n",
       "    <tr>\n",
       "      <th>2000-01-03</th>\n",
       "      <td>BAJAUTOFIN</td>\n",
       "      <td>EQ</td>\n",
       "      <td>46.95</td>\n",
       "      <td>49.45</td>\n",
       "      <td>50.75</td>\n",
       "      <td>46.50</td>\n",
       "      <td>50.75</td>\n",
       "      <td>50.75</td>\n",
       "      <td>50.05</td>\n",
       "      <td>7600</td>\n",
       "      <td>3.803800e+10</td>\n",
       "      <td>NaN</td>\n",
       "      <td>NaN</td>\n",
       "      <td>NaN</td>\n",
       "    </tr>\n",
       "    <tr>\n",
       "      <th>2000-01-04</th>\n",
       "      <td>BAJAUTOFIN</td>\n",
       "      <td>EQ</td>\n",
       "      <td>50.75</td>\n",
       "      <td>53.20</td>\n",
       "      <td>53.20</td>\n",
       "      <td>47.90</td>\n",
       "      <td>48.00</td>\n",
       "      <td>48.10</td>\n",
       "      <td>48.56</td>\n",
       "      <td>5000</td>\n",
       "      <td>2.428000e+10</td>\n",
       "      <td>NaN</td>\n",
       "      <td>NaN</td>\n",
       "      <td>NaN</td>\n",
       "    </tr>\n",
       "    <tr>\n",
       "      <th>2000-01-05</th>\n",
       "      <td>BAJAUTOFIN</td>\n",
       "      <td>EQ</td>\n",
       "      <td>48.10</td>\n",
       "      <td>46.55</td>\n",
       "      <td>47.40</td>\n",
       "      <td>44.60</td>\n",
       "      <td>44.60</td>\n",
       "      <td>44.60</td>\n",
       "      <td>45.47</td>\n",
       "      <td>3500</td>\n",
       "      <td>1.591450e+10</td>\n",
       "      <td>NaN</td>\n",
       "      <td>NaN</td>\n",
       "      <td>NaN</td>\n",
       "    </tr>\n",
       "    <tr>\n",
       "      <th>2000-01-06</th>\n",
       "      <td>BAJAUTOFIN</td>\n",
       "      <td>EQ</td>\n",
       "      <td>44.60</td>\n",
       "      <td>43.50</td>\n",
       "      <td>46.00</td>\n",
       "      <td>42.10</td>\n",
       "      <td>46.00</td>\n",
       "      <td>45.25</td>\n",
       "      <td>44.43</td>\n",
       "      <td>6200</td>\n",
       "      <td>2.754750e+10</td>\n",
       "      <td>NaN</td>\n",
       "      <td>NaN</td>\n",
       "      <td>NaN</td>\n",
       "    </tr>\n",
       "    <tr>\n",
       "      <th>2000-01-07</th>\n",
       "      <td>BAJAUTOFIN</td>\n",
       "      <td>EQ</td>\n",
       "      <td>45.25</td>\n",
       "      <td>48.00</td>\n",
       "      <td>48.00</td>\n",
       "      <td>42.00</td>\n",
       "      <td>42.90</td>\n",
       "      <td>42.90</td>\n",
       "      <td>44.44</td>\n",
       "      <td>3500</td>\n",
       "      <td>1.555550e+10</td>\n",
       "      <td>NaN</td>\n",
       "      <td>NaN</td>\n",
       "      <td>NaN</td>\n",
       "    </tr>\n",
       "    <tr>\n",
       "      <th>...</th>\n",
       "      <td>...</td>\n",
       "      <td>...</td>\n",
       "      <td>...</td>\n",
       "      <td>...</td>\n",
       "      <td>...</td>\n",
       "      <td>...</td>\n",
       "      <td>...</td>\n",
       "      <td>...</td>\n",
       "      <td>...</td>\n",
       "      <td>...</td>\n",
       "      <td>...</td>\n",
       "      <td>...</td>\n",
       "      <td>...</td>\n",
       "      <td>...</td>\n",
       "    </tr>\n",
       "    <tr>\n",
       "      <th>2020-08-25</th>\n",
       "      <td>BAJFINANCE</td>\n",
       "      <td>EQ</td>\n",
       "      <td>3492.05</td>\n",
       "      <td>3525.00</td>\n",
       "      <td>3660.00</td>\n",
       "      <td>3510.00</td>\n",
       "      <td>3658.00</td>\n",
       "      <td>3642.90</td>\n",
       "      <td>3579.12</td>\n",
       "      <td>9854070</td>\n",
       "      <td>3.526895e+15</td>\n",
       "      <td>339815.0</td>\n",
       "      <td>1498309.0</td>\n",
       "      <td>0.1520</td>\n",
       "    </tr>\n",
       "    <tr>\n",
       "      <th>2020-08-26</th>\n",
       "      <td>BAJFINANCE</td>\n",
       "      <td>EQ</td>\n",
       "      <td>3642.90</td>\n",
       "      <td>3665.00</td>\n",
       "      <td>3707.00</td>\n",
       "      <td>3631.00</td>\n",
       "      <td>3638.20</td>\n",
       "      <td>3645.55</td>\n",
       "      <td>3668.17</td>\n",
       "      <td>6665336</td>\n",
       "      <td>2.444958e+15</td>\n",
       "      <td>213994.0</td>\n",
       "      <td>944373.0</td>\n",
       "      <td>0.1417</td>\n",
       "    </tr>\n",
       "    <tr>\n",
       "      <th>2020-08-27</th>\n",
       "      <td>BAJFINANCE</td>\n",
       "      <td>EQ</td>\n",
       "      <td>3645.55</td>\n",
       "      <td>3656.95</td>\n",
       "      <td>3668.40</td>\n",
       "      <td>3596.40</td>\n",
       "      <td>3636.00</td>\n",
       "      <td>3632.50</td>\n",
       "      <td>3631.13</td>\n",
       "      <td>4611132</td>\n",
       "      <td>1.674361e+15</td>\n",
       "      <td>162374.0</td>\n",
       "      <td>387513.0</td>\n",
       "      <td>0.0840</td>\n",
       "    </tr>\n",
       "    <tr>\n",
       "      <th>2020-08-28</th>\n",
       "      <td>BAJFINANCE</td>\n",
       "      <td>EQ</td>\n",
       "      <td>3632.50</td>\n",
       "      <td>3650.00</td>\n",
       "      <td>3688.00</td>\n",
       "      <td>3617.05</td>\n",
       "      <td>3672.05</td>\n",
       "      <td>3670.80</td>\n",
       "      <td>3652.77</td>\n",
       "      <td>4251575</td>\n",
       "      <td>1.553003e+15</td>\n",
       "      <td>137033.0</td>\n",
       "      <td>434147.0</td>\n",
       "      <td>0.1021</td>\n",
       "    </tr>\n",
       "    <tr>\n",
       "      <th>2020-08-31</th>\n",
       "      <td>BAJFINANCE</td>\n",
       "      <td>EQ</td>\n",
       "      <td>3670.80</td>\n",
       "      <td>3715.00</td>\n",
       "      <td>3749.85</td>\n",
       "      <td>3465.00</td>\n",
       "      <td>3478.50</td>\n",
       "      <td>3487.80</td>\n",
       "      <td>3602.93</td>\n",
       "      <td>8529788</td>\n",
       "      <td>3.073224e+15</td>\n",
       "      <td>293454.0</td>\n",
       "      <td>1321559.0</td>\n",
       "      <td>0.1549</td>\n",
       "    </tr>\n",
       "  </tbody>\n",
       "</table>\n",
       "<p>5070 rows × 14 columns</p>\n",
       "</div>"
      ],
      "text/plain": [
       "                Symbol Series  Prev Close     Open     High      Low     Last  \\\n",
       "Date                                                                            \n",
       "2000-01-03  BAJAUTOFIN     EQ       46.95    49.45    50.75    46.50    50.75   \n",
       "2000-01-04  BAJAUTOFIN     EQ       50.75    53.20    53.20    47.90    48.00   \n",
       "2000-01-05  BAJAUTOFIN     EQ       48.10    46.55    47.40    44.60    44.60   \n",
       "2000-01-06  BAJAUTOFIN     EQ       44.60    43.50    46.00    42.10    46.00   \n",
       "2000-01-07  BAJAUTOFIN     EQ       45.25    48.00    48.00    42.00    42.90   \n",
       "...                ...    ...         ...      ...      ...      ...      ...   \n",
       "2020-08-25  BAJFINANCE     EQ     3492.05  3525.00  3660.00  3510.00  3658.00   \n",
       "2020-08-26  BAJFINANCE     EQ     3642.90  3665.00  3707.00  3631.00  3638.20   \n",
       "2020-08-27  BAJFINANCE     EQ     3645.55  3656.95  3668.40  3596.40  3636.00   \n",
       "2020-08-28  BAJFINANCE     EQ     3632.50  3650.00  3688.00  3617.05  3672.05   \n",
       "2020-08-31  BAJFINANCE     EQ     3670.80  3715.00  3749.85  3465.00  3478.50   \n",
       "\n",
       "              Close     VWAP   Volume      Turnover    Trades  \\\n",
       "Date                                                            \n",
       "2000-01-03    50.75    50.05     7600  3.803800e+10       NaN   \n",
       "2000-01-04    48.10    48.56     5000  2.428000e+10       NaN   \n",
       "2000-01-05    44.60    45.47     3500  1.591450e+10       NaN   \n",
       "2000-01-06    45.25    44.43     6200  2.754750e+10       NaN   \n",
       "2000-01-07    42.90    44.44     3500  1.555550e+10       NaN   \n",
       "...             ...      ...      ...           ...       ...   \n",
       "2020-08-25  3642.90  3579.12  9854070  3.526895e+15  339815.0   \n",
       "2020-08-26  3645.55  3668.17  6665336  2.444958e+15  213994.0   \n",
       "2020-08-27  3632.50  3631.13  4611132  1.674361e+15  162374.0   \n",
       "2020-08-28  3670.80  3652.77  4251575  1.553003e+15  137033.0   \n",
       "2020-08-31  3487.80  3602.93  8529788  3.073224e+15  293454.0   \n",
       "\n",
       "            Deliverable Volume  %Deliverble  \n",
       "Date                                         \n",
       "2000-01-03                 NaN          NaN  \n",
       "2000-01-04                 NaN          NaN  \n",
       "2000-01-05                 NaN          NaN  \n",
       "2000-01-06                 NaN          NaN  \n",
       "2000-01-07                 NaN          NaN  \n",
       "...                        ...          ...  \n",
       "2020-08-25           1498309.0       0.1520  \n",
       "2020-08-26            944373.0       0.1417  \n",
       "2020-08-27            387513.0       0.0840  \n",
       "2020-08-28            434147.0       0.1021  \n",
       "2020-08-31           1321559.0       0.1549  \n",
       "\n",
       "[5070 rows x 14 columns]"
      ]
     },
     "execution_count": 111,
     "metadata": {},
     "output_type": "execute_result"
    }
   ],
   "source": [
    "#setting date column as index\n",
    "df.set_index('Date',inplace=True)\n",
    "df"
   ]
  },
  {
   "cell_type": "code",
   "execution_count": 113,
   "id": "f5ecb727-5e57-451e-8001-05fcdd4a5311",
   "metadata": {},
   "outputs": [
    {
     "data": {
      "text/plain": [
       "(5070, 14)"
      ]
     },
     "execution_count": 113,
     "metadata": {},
     "output_type": "execute_result"
    }
   ],
   "source": [
    "df.shape"
   ]
  },
  {
   "cell_type": "markdown",
   "id": "ffa2ebe2-97d1-42b7-8eb4-da9dc358a81f",
   "metadata": {},
   "source": [
    "*Target VWAP (volume weighted average price):* a trading benchmark used by traders to show the average price of securities traded throughout the day based on the volume and price, this allows traders to gain insight into the trend and value of securities and may be used as a trend confirmation tool. "
   ]
  },
  {
   "cell_type": "code",
   "execution_count": 112,
   "id": "edcb5c46-d34d-46b7-a999-bfd93146b6ec",
   "metadata": {},
   "outputs": [
    {
     "data": {
      "text/plain": [
       "<AxesSubplot:xlabel='Date'>"
      ]
     },
     "execution_count": 112,
     "metadata": {},
     "output_type": "execute_result"
    },
    {
     "data": {
      "image/png": "[encoded data removed]",
      "text/plain": [
       "<Figure size 432x288 with 1 Axes>"
      ]
     },
     "metadata": {
      "needs_background": "light"
     },
     "output_type": "display_data"
    }
   ],
   "source": [
    "df['VWAP'].plot()"
   ]
  },
  {
   "cell_type": "markdown",
   "id": "f81a3e64-371a-4556-bf8a-946b2817449b",
   "metadata": {},
   "source": [
    "- mean and std is not constant throughout the data\n",
    "- the data is being affected by seasonality\n",
    "- the timeseries is not stationary"
   ]
  },
  {
   "cell_type": "code",
   "execution_count": 114,
   "id": "e2b466b6-ba1e-4a66-a758-a93cb08984da",
   "metadata": {},
   "outputs": [
    {
     "data": {
      "text/plain": [
       "Symbol                   0\n",
       "Series                   0\n",
       "Prev Close               0\n",
       "Open                     0\n",
       "High                     0\n",
       "Low                      0\n",
       "Last                     0\n",
       "Close                    0\n",
       "VWAP                     0\n",
       "Volume                   0\n",
       "Turnover                 0\n",
       "Trades                2779\n",
       "Deliverable Volume     446\n",
       "%Deliverble            446\n",
       "dtype: int64"
      ]
     },
     "execution_count": 114,
     "metadata": {},
     "output_type": "execute_result"
    }
   ],
   "source": [
    "df.isna().sum()"
   ]
  },
  {
   "cell_type": "markdown",
   "id": "c32217f3-982e-4bfa-b21d-2767ecd98bb4",
   "metadata": {},
   "source": [
    "- NaN values in Trades, Deliverable Volume, and %Deliverable columns.\n",
    "- more than 50% of data in Trades are NaN, high chance to drop the column."
   ]
  },
  {
   "cell_type": "markdown",
   "id": "4f9f17b8-67ca-4853-98e9-ebfe6531f3e0",
   "metadata": {},
   "source": [
    "# Data Preprocessing"
   ]
  },
  {
   "cell_type": "code",
   "execution_count": 116,
   "id": "f7e09ed6-2415-469e-949e-6780670ec3be",
   "metadata": {},
   "outputs": [],
   "source": [
    "df.dropna(inplace=True)"
   ]
  },
  {
   "cell_type": "code",
   "execution_count": 117,
   "id": "69ffb6cc-d245-425b-914e-e9367e08ddb3",
   "metadata": {},
   "outputs": [
    {
     "data": {
      "text/plain": [
       "Symbol                0\n",
       "Series                0\n",
       "Prev Close            0\n",
       "Open                  0\n",
       "High                  0\n",
       "Low                   0\n",
       "Last                  0\n",
       "Close                 0\n",
       "VWAP                  0\n",
       "Volume                0\n",
       "Turnover              0\n",
       "Trades                0\n",
       "Deliverable Volume    0\n",
       "%Deliverble           0\n",
       "dtype: int64"
      ]
     },
     "execution_count": 117,
     "metadata": {},
     "output_type": "execute_result"
    }
   ],
   "source": [
    "df.isna().sum()"
   ]
  },
  {
   "cell_type": "code",
   "execution_count": 118,
   "id": "8dea07c9-0a8c-4770-b4eb-18aaa091a6f0",
   "metadata": {},
   "outputs": [
    {
     "data": {
      "text/plain": [
       "(2291, 14)"
      ]
     },
     "execution_count": 118,
     "metadata": {},
     "output_type": "execute_result"
    }
   ],
   "source": [
    "df.shape"
   ]
  },
  {
   "cell_type": "markdown",
   "id": "e0f27284-d346-45db-a62b-7f038b2d289a",
   "metadata": {},
   "source": [
    "# Feature Engineering"
   ]
  },
  {
   "cell_type": "code",
   "execution_count": 120,
   "id": "5b6c002d-48da-4522-8959-b66d413fb714",
   "metadata": {},
   "outputs": [
    {
     "data": {
      "text/plain": [
       "Symbol                 object\n",
       "Series                 object\n",
       "Prev Close            float64\n",
       "Open                  float64\n",
       "High                  float64\n",
       "Low                   float64\n",
       "Last                  float64\n",
       "Close                 float64\n",
       "VWAP                  float64\n",
       "Volume                  int64\n",
       "Turnover              float64\n",
       "Trades                float64\n",
       "Deliverable Volume    float64\n",
       "%Deliverble           float64\n",
       "dtype: object"
      ]
     },
     "execution_count": 120,
     "metadata": {},
     "output_type": "execute_result"
    }
   ],
   "source": [
    "data=df.copy()\n",
    "data.dtypes"
   ]
  },
  {
   "cell_type": "code",
   "execution_count": 121,
   "id": "37c83ac5-51e2-4d33-aae1-3e194bc0e91f",
   "metadata": {},
   "outputs": [
    {
     "data": {
      "text/plain": [
       "Index(['Symbol', 'Series', 'Prev Close', 'Open', 'High', 'Low', 'Last',\n",
       "       'Close', 'VWAP', 'Volume', 'Turnover', 'Trades', 'Deliverable Volume',\n",
       "       '%Deliverble'],\n",
       "      dtype='object')"
      ]
     },
     "execution_count": 121,
     "metadata": {},
     "output_type": "execute_result"
    }
   ],
   "source": [
    "data.columns"
   ]
  },
  {
   "cell_type": "code",
   "execution_count": 122,
   "id": "885119d0-f4d2-43fb-890d-68cc2e9eca2d",
   "metadata": {},
   "outputs": [],
   "source": [
    "feature_list=['High','Low','Volume','Turnover','Trades']"
   ]
  },
  {
   "cell_type": "markdown",
   "id": "88bad0f1-db68-4490-b5d2-a2e53ad41bfb",
   "metadata": {},
   "source": [
    "Moving Average (MA) is a widely used technical indicator that smoothes price trends by filtering out the \"noise\" of random short-term price fluctuations. The most common use of moving averages is to determine trend direction and determine support and resistance levels."
   ]
  },
  {
   "cell_type": "code",
   "execution_count": 123,
   "id": "e28c911a-e7b2-4db3-9597-c7fa5ee964a3",
   "metadata": {},
   "outputs": [],
   "source": [
    "#moving average (rolling average) with windows of 3 and 7\n",
    "window1=3\n",
    "window2=7\n",
    "\n",
    "for feature in feature_list:\n",
    "    data[feature+'rolling_mean_3']=data[feature].rolling(window=window1).mean()\n",
    "    data[feature+'rolling_mean_7']=data[feature].rolling(window=window2).mean()"
   ]
  },
  {
   "cell_type": "code",
   "execution_count": 124,
   "id": "33f1e502-9a45-4df1-a4d0-8f5e8b4fdcb7",
   "metadata": {},
   "outputs": [],
   "source": [
    "for feature in feature_list:\n",
    "    data[feature+'rolling_std_3']=data[feature].rolling(window=window1).std()\n",
    "    data[feature+'rolling_std_7']=data[feature].rolling(window=window2).std()"
   ]
  },
  {
   "cell_type": "code",
   "execution_count": 125,
   "id": "3c4e322b-e5f6-42f7-a257-e334193d8d46",
   "metadata": {},
   "outputs": [
    {
     "data": {
      "text/html": [
       "<div>\n",
       "<style scoped>\n",
       "    .dataframe tbody tr th:only-of-type {\n",
       "        vertical-align: middle;\n",
       "    }\n",
       "\n",
       "    .dataframe tbody tr th {\n",
       "        vertical-align: top;\n",
       "    }\n",
       "\n",
       "    .dataframe thead th {\n",
       "        text-align: right;\n",
       "    }\n",
       "</style>\n",
       "<table border=\"1\" class=\"dataframe\">\n",
       "  <thead>\n",
       "    <tr style=\"text-align: right;\">\n",
       "      <th></th>\n",
       "      <th>Symbol</th>\n",
       "      <th>Series</th>\n",
       "      <th>Prev Close</th>\n",
       "      <th>Open</th>\n",
       "      <th>High</th>\n",
       "      <th>Low</th>\n",
       "      <th>Last</th>\n",
       "      <th>Close</th>\n",
       "      <th>VWAP</th>\n",
       "      <th>Volume</th>\n",
       "      <th>...</th>\n",
       "      <th>Highrolling_std_3</th>\n",
       "      <th>Highrolling_std_7</th>\n",
       "      <th>Lowrolling_std_3</th>\n",
       "      <th>Lowrolling_std_7</th>\n",
       "      <th>Volumerolling_std_3</th>\n",
       "      <th>Volumerolling_std_7</th>\n",
       "      <th>Turnoverrolling_std_3</th>\n",
       "      <th>Turnoverrolling_std_7</th>\n",
       "      <th>Tradesrolling_std_3</th>\n",
       "      <th>Tradesrolling_std_7</th>\n",
       "    </tr>\n",
       "    <tr>\n",
       "      <th>Date</th>\n",
       "      <th></th>\n",
       "      <th></th>\n",
       "      <th></th>\n",
       "      <th></th>\n",
       "      <th></th>\n",
       "      <th></th>\n",
       "      <th></th>\n",
       "      <th></th>\n",
       "      <th></th>\n",
       "      <th></th>\n",
       "      <th></th>\n",
       "      <th></th>\n",
       "      <th></th>\n",
       "      <th></th>\n",
       "      <th></th>\n",
       "      <th></th>\n",
       "      <th></th>\n",
       "      <th></th>\n",
       "      <th></th>\n",
       "      <th></th>\n",
       "      <th></th>\n",
       "    </tr>\n",
       "  </thead>\n",
       "  <tbody>\n",
       "    <tr>\n",
       "      <th>2011-06-01</th>\n",
       "      <td>BAJFINANCE</td>\n",
       "      <td>EQ</td>\n",
       "      <td>616.70</td>\n",
       "      <td>617.00</td>\n",
       "      <td>636.50</td>\n",
       "      <td>616.00</td>\n",
       "      <td>627.00</td>\n",
       "      <td>631.85</td>\n",
       "      <td>627.01</td>\n",
       "      <td>6894</td>\n",
       "      <td>...</td>\n",
       "      <td>NaN</td>\n",
       "      <td>NaN</td>\n",
       "      <td>NaN</td>\n",
       "      <td>NaN</td>\n",
       "      <td>NaN</td>\n",
       "      <td>NaN</td>\n",
       "      <td>NaN</td>\n",
       "      <td>NaN</td>\n",
       "      <td>NaN</td>\n",
       "      <td>NaN</td>\n",
       "    </tr>\n",
       "    <tr>\n",
       "      <th>2011-06-02</th>\n",
       "      <td>BAJFINANCE</td>\n",
       "      <td>EQ</td>\n",
       "      <td>631.85</td>\n",
       "      <td>625.00</td>\n",
       "      <td>638.90</td>\n",
       "      <td>620.00</td>\n",
       "      <td>634.00</td>\n",
       "      <td>633.45</td>\n",
       "      <td>636.04</td>\n",
       "      <td>2769</td>\n",
       "      <td>...</td>\n",
       "      <td>NaN</td>\n",
       "      <td>NaN</td>\n",
       "      <td>NaN</td>\n",
       "      <td>NaN</td>\n",
       "      <td>NaN</td>\n",
       "      <td>NaN</td>\n",
       "      <td>NaN</td>\n",
       "      <td>NaN</td>\n",
       "      <td>NaN</td>\n",
       "      <td>NaN</td>\n",
       "    </tr>\n",
       "    <tr>\n",
       "      <th>2011-06-03</th>\n",
       "      <td>BAJFINANCE</td>\n",
       "      <td>EQ</td>\n",
       "      <td>633.45</td>\n",
       "      <td>625.15</td>\n",
       "      <td>637.80</td>\n",
       "      <td>620.00</td>\n",
       "      <td>623.00</td>\n",
       "      <td>625.00</td>\n",
       "      <td>625.09</td>\n",
       "      <td>51427</td>\n",
       "      <td>...</td>\n",
       "      <td>1.201388</td>\n",
       "      <td>NaN</td>\n",
       "      <td>2.309401</td>\n",
       "      <td>NaN</td>\n",
       "      <td>2.698087e+04</td>\n",
       "      <td>NaN</td>\n",
       "      <td>1.685217e+12</td>\n",
       "      <td>NaN</td>\n",
       "      <td>670.500559</td>\n",
       "      <td>NaN</td>\n",
       "    </tr>\n",
       "    <tr>\n",
       "      <th>2011-06-06</th>\n",
       "      <td>BAJFINANCE</td>\n",
       "      <td>EQ</td>\n",
       "      <td>625.00</td>\n",
       "      <td>620.00</td>\n",
       "      <td>641.00</td>\n",
       "      <td>611.35</td>\n",
       "      <td>611.35</td>\n",
       "      <td>614.00</td>\n",
       "      <td>616.03</td>\n",
       "      <td>5446</td>\n",
       "      <td>...</td>\n",
       "      <td>1.625833</td>\n",
       "      <td>NaN</td>\n",
       "      <td>4.994080</td>\n",
       "      <td>NaN</td>\n",
       "      <td>2.735270e+04</td>\n",
       "      <td>NaN</td>\n",
       "      <td>1.710136e+12</td>\n",
       "      <td>NaN</td>\n",
       "      <td>148.769396</td>\n",
       "      <td>NaN</td>\n",
       "    </tr>\n",
       "    <tr>\n",
       "      <th>2011-06-07</th>\n",
       "      <td>BAJFINANCE</td>\n",
       "      <td>EQ</td>\n",
       "      <td>614.00</td>\n",
       "      <td>604.00</td>\n",
       "      <td>623.95</td>\n",
       "      <td>604.00</td>\n",
       "      <td>619.90</td>\n",
       "      <td>619.15</td>\n",
       "      <td>617.73</td>\n",
       "      <td>5991</td>\n",
       "      <td>...</td>\n",
       "      <td>9.062422</td>\n",
       "      <td>NaN</td>\n",
       "      <td>8.008797</td>\n",
       "      <td>NaN</td>\n",
       "      <td>2.639122e+04</td>\n",
       "      <td>NaN</td>\n",
       "      <td>1.652377e+12</td>\n",
       "      <td>NaN</td>\n",
       "      <td>78.270897</td>\n",
       "      <td>NaN</td>\n",
       "    </tr>\n",
       "    <tr>\n",
       "      <th>...</th>\n",
       "      <td>...</td>\n",
       "      <td>...</td>\n",
       "      <td>...</td>\n",
       "      <td>...</td>\n",
       "      <td>...</td>\n",
       "      <td>...</td>\n",
       "      <td>...</td>\n",
       "      <td>...</td>\n",
       "      <td>...</td>\n",
       "      <td>...</td>\n",
       "      <td>...</td>\n",
       "      <td>...</td>\n",
       "      <td>...</td>\n",
       "      <td>...</td>\n",
       "      <td>...</td>\n",
       "      <td>...</td>\n",
       "      <td>...</td>\n",
       "      <td>...</td>\n",
       "      <td>...</td>\n",
       "      <td>...</td>\n",
       "      <td>...</td>\n",
       "    </tr>\n",
       "    <tr>\n",
       "      <th>2020-08-25</th>\n",
       "      <td>BAJFINANCE</td>\n",
       "      <td>EQ</td>\n",
       "      <td>3492.05</td>\n",
       "      <td>3525.00</td>\n",
       "      <td>3660.00</td>\n",
       "      <td>3510.00</td>\n",
       "      <td>3658.00</td>\n",
       "      <td>3642.90</td>\n",
       "      <td>3579.12</td>\n",
       "      <td>9854070</td>\n",
       "      <td>...</td>\n",
       "      <td>111.840660</td>\n",
       "      <td>89.327396</td>\n",
       "      <td>69.777271</td>\n",
       "      <td>61.471880</td>\n",
       "      <td>3.613401e+06</td>\n",
       "      <td>2.348888e+06</td>\n",
       "      <td>1.315344e+15</td>\n",
       "      <td>8.608028e+14</td>\n",
       "      <td>125273.490429</td>\n",
       "      <td>81831.863468</td>\n",
       "    </tr>\n",
       "    <tr>\n",
       "      <th>2020-08-26</th>\n",
       "      <td>BAJFINANCE</td>\n",
       "      <td>EQ</td>\n",
       "      <td>3642.90</td>\n",
       "      <td>3665.00</td>\n",
       "      <td>3707.00</td>\n",
       "      <td>3631.00</td>\n",
       "      <td>3638.20</td>\n",
       "      <td>3645.55</td>\n",
       "      <td>3668.17</td>\n",
       "      <td>6665336</td>\n",
       "      <td>...</td>\n",
       "      <td>100.081633</td>\n",
       "      <td>116.819954</td>\n",
       "      <td>115.027609</td>\n",
       "      <td>100.638138</td>\n",
       "      <td>1.987080e+06</td>\n",
       "      <td>2.403611e+06</td>\n",
       "      <td>7.237865e+14</td>\n",
       "      <td>8.886997e+14</td>\n",
       "      <td>74234.798338</td>\n",
       "      <td>82982.637290</td>\n",
       "    </tr>\n",
       "    <tr>\n",
       "      <th>2020-08-27</th>\n",
       "      <td>BAJFINANCE</td>\n",
       "      <td>EQ</td>\n",
       "      <td>3645.55</td>\n",
       "      <td>3656.95</td>\n",
       "      <td>3668.40</td>\n",
       "      <td>3596.40</td>\n",
       "      <td>3636.00</td>\n",
       "      <td>3632.50</td>\n",
       "      <td>3631.13</td>\n",
       "      <td>4611132</td>\n",
       "      <td>...</td>\n",
       "      <td>25.064982</td>\n",
       "      <td>122.216500</td>\n",
       "      <td>62.320569</td>\n",
       "      <td>111.614377</td>\n",
       "      <td>2.641848e+06</td>\n",
       "      <td>2.408580e+06</td>\n",
       "      <td>9.306171e+14</td>\n",
       "      <td>8.850381e+14</td>\n",
       "      <td>91269.616085</td>\n",
       "      <td>82597.470913</td>\n",
       "    </tr>\n",
       "    <tr>\n",
       "      <th>2020-08-28</th>\n",
       "      <td>BAJFINANCE</td>\n",
       "      <td>EQ</td>\n",
       "      <td>3632.50</td>\n",
       "      <td>3650.00</td>\n",
       "      <td>3688.00</td>\n",
       "      <td>3617.05</td>\n",
       "      <td>3672.05</td>\n",
       "      <td>3670.80</td>\n",
       "      <td>3652.77</td>\n",
       "      <td>4251575</td>\n",
       "      <td>...</td>\n",
       "      <td>19.300777</td>\n",
       "      <td>124.544624</td>\n",
       "      <td>17.407781</td>\n",
       "      <td>119.736752</td>\n",
       "      <td>1.302259e+06</td>\n",
       "      <td>2.404277e+06</td>\n",
       "      <td>4.837586e+14</td>\n",
       "      <td>8.763315e+14</td>\n",
       "      <td>39221.138437</td>\n",
       "      <td>82509.579347</td>\n",
       "    </tr>\n",
       "    <tr>\n",
       "      <th>2020-08-31</th>\n",
       "      <td>BAJFINANCE</td>\n",
       "      <td>EQ</td>\n",
       "      <td>3670.80</td>\n",
       "      <td>3715.00</td>\n",
       "      <td>3749.85</td>\n",
       "      <td>3465.00</td>\n",
       "      <td>3478.50</td>\n",
       "      <td>3487.80</td>\n",
       "      <td>3602.93</td>\n",
       "      <td>8529788</td>\n",
       "      <td>...</td>\n",
       "      <td>42.512126</td>\n",
       "      <td>112.033479</td>\n",
       "      <td>82.473819</td>\n",
       "      <td>103.463256</td>\n",
       "      <td>2.373052e+06</td>\n",
       "      <td>2.517269e+06</td>\n",
       "      <td>8.448489e+14</td>\n",
       "      <td>9.107695e+14</td>\n",
       "      <td>83956.002289</td>\n",
       "      <td>87453.449690</td>\n",
       "    </tr>\n",
       "  </tbody>\n",
       "</table>\n",
       "<p>2291 rows × 34 columns</p>\n",
       "</div>"
      ],
      "text/plain": [
       "                Symbol Series  Prev Close     Open     High      Low     Last  \\\n",
       "Date                                                                            \n",
       "2011-06-01  BAJFINANCE     EQ      616.70   617.00   636.50   616.00   627.00   \n",
       "2011-06-02  BAJFINANCE     EQ      631.85   625.00   638.90   620.00   634.00   \n",
       "2011-06-03  BAJFINANCE     EQ      633.45   625.15   637.80   620.00   623.00   \n",
       "2011-06-06  BAJFINANCE     EQ      625.00   620.00   641.00   611.35   611.35   \n",
       "2011-06-07  BAJFINANCE     EQ      614.00   604.00   623.95   604.00   619.90   \n",
       "...                ...    ...         ...      ...      ...      ...      ...   \n",
       "2020-08-25  BAJFINANCE     EQ     3492.05  3525.00  3660.00  3510.00  3658.00   \n",
       "2020-08-26  BAJFINANCE     EQ     3642.90  3665.00  3707.00  3631.00  3638.20   \n",
       "2020-08-27  BAJFINANCE     EQ     3645.55  3656.95  3668.40  3596.40  3636.00   \n",
       "2020-08-28  BAJFINANCE     EQ     3632.50  3650.00  3688.00  3617.05  3672.05   \n",
       "2020-08-31  BAJFINANCE     EQ     3670.80  3715.00  3749.85  3465.00  3478.50   \n",
       "\n",
       "              Close     VWAP   Volume  ...  Highrolling_std_3  \\\n",
       "Date                                   ...                      \n",
       "2011-06-01   631.85   627.01     6894  ...                NaN   \n",
       "2011-06-02   633.45   636.04     2769  ...                NaN   \n",
       "2011-06-03   625.00   625.09    51427  ...           1.201388   \n",
       "2011-06-06   614.00   616.03     5446  ...           1.625833   \n",
       "2011-06-07   619.15   617.73     5991  ...           9.062422   \n",
       "...             ...      ...      ...  ...                ...   \n",
       "2020-08-25  3642.90  3579.12  9854070  ...         111.840660   \n",
       "2020-08-26  3645.55  3668.17  6665336  ...         100.081633   \n",
       "2020-08-27  3632.50  3631.13  4611132  ...          25.064982   \n",
       "2020-08-28  3670.80  3652.77  4251575  ...          19.300777   \n",
       "2020-08-31  3487.80  3602.93  8529788  ...          42.512126   \n",
       "\n",
       "            Highrolling_std_7  Lowrolling_std_3  Lowrolling_std_7  \\\n",
       "Date                                                                \n",
       "2011-06-01                NaN               NaN               NaN   \n",
       "2011-06-02                NaN               NaN               NaN   \n",
       "2011-06-03                NaN          2.309401               NaN   \n",
       "2011-06-06                NaN          4.994080               NaN   \n",
       "2011-06-07                NaN          8.008797               NaN   \n",
       "...                       ...               ...               ...   \n",
       "2020-08-25          89.327396         69.777271         61.471880   \n",
       "2020-08-26         116.819954        115.027609        100.638138   \n",
       "2020-08-27         122.216500         62.320569        111.614377   \n",
       "2020-08-28         124.544624         17.407781        119.736752   \n",
       "2020-08-31         112.033479         82.473819        103.463256   \n",
       "\n",
       "            Volumerolling_std_3  Volumerolling_std_7  Turnoverrolling_std_3  \\\n",
       "Date                                                                          \n",
       "2011-06-01                  NaN                  NaN                    NaN   \n",
       "2011-06-02                  NaN                  NaN                    NaN   \n",
       "2011-06-03         2.698087e+04                  NaN           1.685217e+12   \n",
       "2011-06-06         2.735270e+04                  NaN           1.710136e+12   \n",
       "2011-06-07         2.639122e+04                  NaN           1.652377e+12   \n",
       "...                         ...                  ...                    ...   \n",
       "2020-08-25         3.613401e+06         2.348888e+06           1.315344e+15   \n",
       "2020-08-26         1.987080e+06         2.403611e+06           7.237865e+14   \n",
       "2020-08-27         2.641848e+06         2.408580e+06           9.306171e+14   \n",
       "2020-08-28         1.302259e+06         2.404277e+06           4.837586e+14   \n",
       "2020-08-31         2.373052e+06         2.517269e+06           8.448489e+14   \n",
       "\n",
       "            Turnoverrolling_std_7  Tradesrolling_std_3  Tradesrolling_std_7  \n",
       "Date                                                                         \n",
       "2011-06-01                    NaN                  NaN                  NaN  \n",
       "2011-06-02                    NaN                  NaN                  NaN  \n",
       "2011-06-03                    NaN           670.500559                  NaN  \n",
       "2011-06-06                    NaN           148.769396                  NaN  \n",
       "2011-06-07                    NaN            78.270897                  NaN  \n",
       "...                           ...                  ...                  ...  \n",
       "2020-08-25           8.608028e+14        125273.490429         81831.863468  \n",
       "2020-08-26           8.886997e+14         74234.798338         82982.637290  \n",
       "2020-08-27           8.850381e+14         91269.616085         82597.470913  \n",
       "2020-08-28           8.763315e+14         39221.138437         82509.579347  \n",
       "2020-08-31           9.107695e+14         83956.002289         87453.449690  \n",
       "\n",
       "[2291 rows x 34 columns]"
      ]
     },
     "execution_count": 125,
     "metadata": {},
     "output_type": "execute_result"
    }
   ],
   "source": [
    "data"
   ]
  },
  {
   "cell_type": "code",
   "execution_count": 126,
   "id": "a727bf73-f7b9-466d-98a8-560a2ee2b7d2",
   "metadata": {},
   "outputs": [
    {
     "data": {
      "text/plain": [
       "Symbol                    0\n",
       "Series                    0\n",
       "Prev Close                0\n",
       "Open                      0\n",
       "High                      0\n",
       "Low                       0\n",
       "Last                      0\n",
       "Close                     0\n",
       "VWAP                      0\n",
       "Volume                    0\n",
       "Turnover                  0\n",
       "Trades                    0\n",
       "Deliverable Volume        0\n",
       "%Deliverble               0\n",
       "Highrolling_mean_3        2\n",
       "Highrolling_mean_7        6\n",
       "Lowrolling_mean_3         2\n",
       "Lowrolling_mean_7         6\n",
       "Volumerolling_mean_3      2\n",
       "Volumerolling_mean_7      6\n",
       "Turnoverrolling_mean_3    2\n",
       "Turnoverrolling_mean_7    6\n",
       "Tradesrolling_mean_3      2\n",
       "Tradesrolling_mean_7      6\n",
       "Highrolling_std_3         2\n",
       "Highrolling_std_7         6\n",
       "Lowrolling_std_3          2\n",
       "Lowrolling_std_7          6\n",
       "Volumerolling_std_3       2\n",
       "Volumerolling_std_7       6\n",
       "Turnoverrolling_std_3     2\n",
       "Turnoverrolling_std_7     6\n",
       "Tradesrolling_std_3       2\n",
       "Tradesrolling_std_7       6\n",
       "dtype: int64"
      ]
     },
     "execution_count": 126,
     "metadata": {},
     "output_type": "execute_result"
    }
   ],
   "source": [
    "data.isna().sum()"
   ]
  },
  {
   "cell_type": "code",
   "execution_count": 127,
   "id": "7e9d08d3-a5d1-4ab1-be9e-d5cddff8bf41",
   "metadata": {},
   "outputs": [],
   "source": [
    "data.dropna(inplace=True)"
   ]
  },
  {
   "cell_type": "code",
   "execution_count": 128,
   "id": "e8d2bf1f-44d7-49f1-92ae-e44437256f00",
   "metadata": {},
   "outputs": [
    {
     "data": {
      "text/plain": [
       "Symbol                    0\n",
       "Series                    0\n",
       "Prev Close                0\n",
       "Open                      0\n",
       "High                      0\n",
       "Low                       0\n",
       "Last                      0\n",
       "Close                     0\n",
       "VWAP                      0\n",
       "Volume                    0\n",
       "Turnover                  0\n",
       "Trades                    0\n",
       "Deliverable Volume        0\n",
       "%Deliverble               0\n",
       "Highrolling_mean_3        0\n",
       "Highrolling_mean_7        0\n",
       "Lowrolling_mean_3         0\n",
       "Lowrolling_mean_7         0\n",
       "Volumerolling_mean_3      0\n",
       "Volumerolling_mean_7      0\n",
       "Turnoverrolling_mean_3    0\n",
       "Turnoverrolling_mean_7    0\n",
       "Tradesrolling_mean_3      0\n",
       "Tradesrolling_mean_7      0\n",
       "Highrolling_std_3         0\n",
       "Highrolling_std_7         0\n",
       "Lowrolling_std_3          0\n",
       "Lowrolling_std_7          0\n",
       "Volumerolling_std_3       0\n",
       "Volumerolling_std_7       0\n",
       "Turnoverrolling_std_3     0\n",
       "Turnoverrolling_std_7     0\n",
       "Tradesrolling_std_3       0\n",
       "Tradesrolling_std_7       0\n",
       "dtype: int64"
      ]
     },
     "execution_count": 128,
     "metadata": {},
     "output_type": "execute_result"
    }
   ],
   "source": [
    "data.isna().sum()"
   ]
  },
  {
   "cell_type": "code",
   "execution_count": 129,
   "id": "241fac4a-e3f5-44ab-8594-18edf86483c1",
   "metadata": {},
   "outputs": [
    {
     "data": {
      "text/plain": [
       "(2285, 34)"
      ]
     },
     "execution_count": 129,
     "metadata": {},
     "output_type": "execute_result"
    }
   ],
   "source": [
    "data.shape"
   ]
  },
  {
   "cell_type": "code",
   "execution_count": 130,
   "id": "6de37675-8fcf-448a-becd-341a6ffdb28d",
   "metadata": {},
   "outputs": [
    {
     "data": {
      "text/plain": [
       "Index(['Symbol', 'Series', 'Prev Close', 'Open', 'High', 'Low', 'Last',\n",
       "       'Close', 'VWAP', 'Volume', 'Turnover', 'Trades', 'Deliverable Volume',\n",
       "       '%Deliverble', 'Highrolling_mean_3', 'Highrolling_mean_7',\n",
       "       'Lowrolling_mean_3', 'Lowrolling_mean_7', 'Volumerolling_mean_3',\n",
       "       'Volumerolling_mean_7', 'Turnoverrolling_mean_3',\n",
       "       'Turnoverrolling_mean_7', 'Tradesrolling_mean_3',\n",
       "       'Tradesrolling_mean_7', 'Highrolling_std_3', 'Highrolling_std_7',\n",
       "       'Lowrolling_std_3', 'Lowrolling_std_7', 'Volumerolling_std_3',\n",
       "       'Volumerolling_std_7', 'Turnoverrolling_std_3', 'Turnoverrolling_std_7',\n",
       "       'Tradesrolling_std_3', 'Tradesrolling_std_7'],\n",
       "      dtype='object')"
      ]
     },
     "execution_count": 130,
     "metadata": {},
     "output_type": "execute_result"
    }
   ],
   "source": [
    "data.columns"
   ]
  },
  {
   "cell_type": "markdown",
   "id": "1309bdc0-4f01-417a-bf2b-f472f25c0634",
   "metadata": {},
   "source": [
    "# Train Test Split"
   ]
  },
  {
   "cell_type": "code",
   "execution_count": 159,
   "id": "cc251ff2-e9e1-49f5-bf20-6d097ec535bc",
   "metadata": {},
   "outputs": [],
   "source": [
    "X=data[['Highrolling_mean_3', 'Highrolling_mean_7',\n",
    "       'Lowrolling_mean_3', 'Lowrolling_mean_7', 'Volumerolling_mean_3',\n",
    "       'Volumerolling_mean_7', 'Turnoverrolling_mean_3',\n",
    "       'Turnoverrolling_mean_7', 'Tradesrolling_mean_3',\n",
    "       'Tradesrolling_mean_7', 'Highrolling_std_3', 'Highrolling_std_7',\n",
    "       'Lowrolling_std_3', 'Lowrolling_std_7', 'Volumerolling_std_3',\n",
    "       'Volumerolling_std_7', 'Turnoverrolling_std_3', 'Turnoverrolling_std_7',\n",
    "       'Tradesrolling_std_3', 'Tradesrolling_std_7']]\n",
    "y=data['VWAP']"
   ]
  },
  {
   "cell_type": "code",
   "execution_count": 160,
   "id": "93704c09-4229-4d47-9012-0a25c94de4c1",
   "metadata": {},
   "outputs": [],
   "source": [
    "from sklearn.model_selection import train_test_split\n",
    "X_train, X_test, y_train, y_test= train_test_split(X,y,test_size=0.2,shuffle=False)"
   ]
  },
  {
   "cell_type": "markdown",
   "id": "59659af0-60ba-4c06-b334-6eb3ed5c49ad",
   "metadata": {},
   "source": [
    "# Modelling"
   ]
  },
  {
   "cell_type": "markdown",
   "id": "56a3a2ed-6588-4c62-b89e-229dec68322f",
   "metadata": {},
   "source": [
    "## Auto Arima Model"
   ]
  },
  {
   "cell_type": "markdown",
   "id": "24f375bd-de98-415b-8d24-5434b2e6d6ca",
   "metadata": {},
   "source": [
    "ARIMA model is a type of statistical model used to analyze and forecast time series data, ARIMA itself stands for:\n",
    "\n",
    " AR: Autoregression. A model that uses observations from the previous time step as input to predict the value of future time step.<br>\n",
    " I: Integrated. Differencing of raw observations to make the time series stationary.<br>\n",
    " MA: Moving average. The average change of the data series over time. "
   ]
  },
  {
   "cell_type": "code",
   "execution_count": 75,
   "id": "23b36c82-e475-4a50-bd9b-b60b28ba590a",
   "metadata": {},
   "outputs": [
    {
     "name": "stdout",
     "output_type": "stream",
     "text": [
      "Collecting pmdarima\n",
      "  Using cached pmdarima-1.8.2-cp38-cp38-win_amd64.whl (596 kB)\n",
      "Requirement already satisfied: Cython!=0.29.18,>=0.29 in e:\\programs\\anaconda\\lib\\site-packages (from pmdarima) (0.29.23)\n",
      "Requirement already satisfied: scikit-learn>=0.22 in e:\\programs\\anaconda\\lib\\site-packages (from pmdarima) (0.24.1)\n",
      "Requirement already satisfied: statsmodels!=0.12.0,>=0.11 in e:\\programs\\anaconda\\lib\\site-packages (from pmdarima) (0.12.2)\n",
      "Requirement already satisfied: numpy~=1.19.0 in e:\\programs\\anaconda\\lib\\site-packages (from pmdarima) (1.19.5)\n",
      "Requirement already satisfied: setuptools!=50.0.0,>=38.6.0 in e:\\programs\\anaconda\\lib\\site-packages (from pmdarima) (52.0.0.post20210125)\n",
      "Requirement already satisfied: scipy>=1.3.2 in e:\\programs\\anaconda\\lib\\site-packages (from pmdarima) (1.6.2)\n",
      "Requirement already satisfied: urllib3 in e:\\programs\\anaconda\\lib\\site-packages (from pmdarima) (1.26.4)\n",
      "Requirement already satisfied: joblib>=0.11 in e:\\programs\\anaconda\\lib\\site-packages (from pmdarima) (1.0.1)\n",
      "Requirement already satisfied: pandas>=0.19 in e:\\programs\\anaconda\\lib\\site-packages (from pmdarima) (1.2.4)\n",
      "Requirement already satisfied: pytz>=2017.3 in e:\\programs\\anaconda\\lib\\site-packages (from pandas>=0.19->pmdarima) (2021.1)\n",
      "Requirement already satisfied: python-dateutil>=2.7.3 in e:\\programs\\anaconda\\lib\\site-packages (from pandas>=0.19->pmdarima) (2.8.1)\n",
      "Requirement already satisfied: six>=1.5 in e:\\programs\\anaconda\\lib\\site-packages (from python-dateutil>=2.7.3->pandas>=0.19->pmdarima) (1.15.0)\n",
      "Requirement already satisfied: threadpoolctl>=2.0.0 in e:\\programs\\anaconda\\lib\\site-packages (from scikit-learn>=0.22->pmdarima) (2.1.0)\n",
      "Requirement already satisfied: patsy>=0.5 in e:\\programs\\anaconda\\lib\\site-packages (from statsmodels!=0.12.0,>=0.11->pmdarima) (0.5.1)\n",
      "Installing collected packages: pmdarima\n",
      "Successfully installed pmdarima-1.8.2\n"
     ]
    }
   ],
   "source": [
    "!pip install pmdarima"
   ]
  },
  {
   "cell_type": "code",
   "execution_count": 135,
   "id": "7f6de15f-69d4-4fa2-9333-0e6d11eedfd5",
   "metadata": {},
   "outputs": [],
   "source": [
    "from pmdarima import auto_arima"
   ]
  },
  {
   "cell_type": "code",
   "execution_count": 163,
   "id": "cc559bf9-6694-4f5c-946b-e46f338a7a2d",
   "metadata": {},
   "outputs": [
    {
     "name": "stdout",
     "output_type": "stream",
     "text": [
      "Performing stepwise search to minimize aic\n",
      " ARIMA(2,0,2)(0,0,0)[0] intercept   : AIC=21253.811, Time=6.88 sec\n",
      " ARIMA(0,0,0)(0,0,0)[0] intercept   : AIC=21247.901, Time=4.50 sec\n",
      " ARIMA(1,0,0)(0,0,0)[0] intercept   : AIC=21249.231, Time=4.80 sec\n",
      " ARIMA(0,0,1)(0,0,0)[0] intercept   : AIC=21249.209, Time=5.93 sec\n",
      " ARIMA(0,0,0)(0,0,0)[0]             : AIC=33149.806, Time=4.09 sec\n",
      " ARIMA(1,0,1)(0,0,0)[0] intercept   : AIC=21251.913, Time=6.65 sec\n",
      "\n",
      "Best model:  ARIMA(0,0,0)(0,0,0)[0] intercept\n",
      "Total fit time: 32.874 seconds\n"
     ]
    },
    {
     "name": "stderr",
     "output_type": "stream",
     "text": [
      "E:\\Programs\\Anaconda\\lib\\site-packages\\statsmodels\\tsa\\statespace\\sarimax.py:1890: RuntimeWarning: divide by zero encountered in reciprocal\n",
      "  return np.roots(self.polynomial_reduced_ar)**-1\n",
      "E:\\Programs\\Anaconda\\lib\\site-packages\\statsmodels\\tsa\\statespace\\sarimax.py:1897: RuntimeWarning: divide by zero encountered in reciprocal\n",
      "  return np.roots(self.polynomial_reduced_ma)**-1\n"
     ]
    }
   ],
   "source": [
    "model=auto_arima(y_train,X_train,trace=True)"
   ]
  },
  {
   "cell_type": "markdown",
   "id": "42162446-53b1-4eb2-b061-3c9e13f1dbe9",
   "metadata": {},
   "source": [
    "the lower the aic value, better arima model."
   ]
  },
  {
   "cell_type": "code",
   "execution_count": 164,
   "id": "d326c7a7-f75a-45d7-a12b-de366b5d9d80",
   "metadata": {},
   "outputs": [
    {
     "data": {
      "text/plain": [
       "ARIMA(order=(0, 0, 0), scoring_args={}, suppress_warnings=True)"
      ]
     },
     "execution_count": 164,
     "metadata": {},
     "output_type": "execute_result"
    }
   ],
   "source": [
    "model.fit(y_train,X_train)"
   ]
  },
  {
   "cell_type": "code",
   "execution_count": 165,
   "id": "8ae5d3ec-9ab4-4197-8c78-bb431ae1e2e9",
   "metadata": {},
   "outputs": [
    {
     "name": "stderr",
     "output_type": "stream",
     "text": [
      "E:\\Programs\\Anaconda\\lib\\site-packages\\statsmodels\\tsa\\base\\tsa_model.py:376: ValueWarning: No supported index is available. Prediction results will be given with an integer index beginning at `start`.\n",
      "  warnings.warn('No supported index is available.'\n"
     ]
    }
   ],
   "source": [
    "forecast=model.predict(n_periods=len(X_test),X=X_test)"
   ]
  },
  {
   "cell_type": "code",
   "execution_count": 166,
   "id": "e37d77c0-2e68-4de1-8e67-8c31e3aa041b",
   "metadata": {},
   "outputs": [
    {
     "data": {
      "text/plain": [
       "numpy.ndarray"
      ]
     },
     "execution_count": 166,
     "metadata": {},
     "output_type": "execute_result"
    }
   ],
   "source": [
    "type(forecast)"
   ]
  },
  {
   "cell_type": "code",
   "execution_count": 167,
   "id": "55d8f4e4-ddf4-4841-b4ec-f8ddef86f02b",
   "metadata": {},
   "outputs": [
    {
     "data": {
      "text/plain": [
       "pandas.core.series.Series"
      ]
     },
     "execution_count": 167,
     "metadata": {},
     "output_type": "execute_result"
    }
   ],
   "source": [
    "type(y_test)"
   ]
  },
  {
   "cell_type": "code",
   "execution_count": 168,
   "id": "3cfc4f7a-2a24-4c22-8dc7-0ae80a90754f",
   "metadata": {},
   "outputs": [],
   "source": [
    "y_test=pd.DataFrame(data=y_test)"
   ]
  },
  {
   "cell_type": "code",
   "execution_count": 169,
   "id": "1f080422-fd59-4cbb-8ea1-bb1800b0fc85",
   "metadata": {},
   "outputs": [
    {
     "data": {
      "text/html": [
       "<div>\n",
       "<style scoped>\n",
       "    .dataframe tbody tr th:only-of-type {\n",
       "        vertical-align: middle;\n",
       "    }\n",
       "\n",
       "    .dataframe tbody tr th {\n",
       "        vertical-align: top;\n",
       "    }\n",
       "\n",
       "    .dataframe thead th {\n",
       "        text-align: right;\n",
       "    }\n",
       "</style>\n",
       "<table border=\"1\" class=\"dataframe\">\n",
       "  <thead>\n",
       "    <tr style=\"text-align: right;\">\n",
       "      <th></th>\n",
       "      <th>VWAP</th>\n",
       "      <th>forecast_arima</th>\n",
       "    </tr>\n",
       "    <tr>\n",
       "      <th>Date</th>\n",
       "      <th></th>\n",
       "      <th></th>\n",
       "    </tr>\n",
       "  </thead>\n",
       "  <tbody>\n",
       "    <tr>\n",
       "      <th>2018-10-25</th>\n",
       "      <td>2304.82</td>\n",
       "      <td>2241.802733</td>\n",
       "    </tr>\n",
       "    <tr>\n",
       "      <th>2018-10-26</th>\n",
       "      <td>2335.67</td>\n",
       "      <td>2304.905077</td>\n",
       "    </tr>\n",
       "    <tr>\n",
       "      <th>2018-10-29</th>\n",
       "      <td>2357.75</td>\n",
       "      <td>2342.120885</td>\n",
       "    </tr>\n",
       "    <tr>\n",
       "      <th>2018-10-30</th>\n",
       "      <td>2387.54</td>\n",
       "      <td>2333.707334</td>\n",
       "    </tr>\n",
       "    <tr>\n",
       "      <th>2018-10-31</th>\n",
       "      <td>2356.22</td>\n",
       "      <td>2336.270560</td>\n",
       "    </tr>\n",
       "    <tr>\n",
       "      <th>...</th>\n",
       "      <td>...</td>\n",
       "      <td>...</td>\n",
       "    </tr>\n",
       "    <tr>\n",
       "      <th>2020-08-25</th>\n",
       "      <td>3579.12</td>\n",
       "      <td>3612.885340</td>\n",
       "    </tr>\n",
       "    <tr>\n",
       "      <th>2020-08-26</th>\n",
       "      <td>3668.17</td>\n",
       "      <td>3741.304888</td>\n",
       "    </tr>\n",
       "    <tr>\n",
       "      <th>2020-08-27</th>\n",
       "      <td>3631.13</td>\n",
       "      <td>3792.846930</td>\n",
       "    </tr>\n",
       "    <tr>\n",
       "      <th>2020-08-28</th>\n",
       "      <td>3652.77</td>\n",
       "      <td>3703.842435</td>\n",
       "    </tr>\n",
       "    <tr>\n",
       "      <th>2020-08-31</th>\n",
       "      <td>3602.93</td>\n",
       "      <td>3586.747004</td>\n",
       "    </tr>\n",
       "  </tbody>\n",
       "</table>\n",
       "<p>457 rows × 2 columns</p>\n",
       "</div>"
      ],
      "text/plain": [
       "               VWAP  forecast_arima\n",
       "Date                               \n",
       "2018-10-25  2304.82     2241.802733\n",
       "2018-10-26  2335.67     2304.905077\n",
       "2018-10-29  2357.75     2342.120885\n",
       "2018-10-30  2387.54     2333.707334\n",
       "2018-10-31  2356.22     2336.270560\n",
       "...             ...             ...\n",
       "2020-08-25  3579.12     3612.885340\n",
       "2020-08-26  3668.17     3741.304888\n",
       "2020-08-27  3631.13     3792.846930\n",
       "2020-08-28  3652.77     3703.842435\n",
       "2020-08-31  3602.93     3586.747004\n",
       "\n",
       "[457 rows x 2 columns]"
      ]
     },
     "execution_count": 169,
     "metadata": {},
     "output_type": "execute_result"
    }
   ],
   "source": [
    "y_test['forecast_arima']=forecast\n",
    "y_test"
   ]
  },
  {
   "cell_type": "code",
   "execution_count": 170,
   "id": "83be2351-690c-4356-afc0-d3648f824805",
   "metadata": {},
   "outputs": [
    {
     "data": {
      "text/plain": [
       "<AxesSubplot:xlabel='Date'>"
      ]
     },
     "execution_count": 170,
     "metadata": {},
     "output_type": "execute_result"
    },
    {
     "data": {
      "image/png": "[encoded data removed]",
      "text/plain": [
       "<Figure size 1008x504 with 1 Axes>"
      ]
     },
     "metadata": {
      "needs_background": "light"
     },
     "output_type": "display_data"
    }
   ],
   "source": [
    "y_test[['VWAP','forecast_arima']].plot(figsize=(14,7))"
   ]
  },
  {
   "cell_type": "markdown",
   "id": "2c76e906-e187-4750-a2a6-844f4aceabe3",
   "metadata": {},
   "source": [
    "# Evaluation"
   ]
  },
  {
   "cell_type": "code",
   "execution_count": 172,
   "id": "be3b0e3e-bf37-409d-a702-c1810ff44191",
   "metadata": {},
   "outputs": [
    {
     "data": {
      "text/plain": [
       "136.14201959289386"
      ]
     },
     "execution_count": 172,
     "metadata": {},
     "output_type": "execute_result"
    }
   ],
   "source": [
    "from sklearn.metrics import mean_absolute_error, mean_squared_error\n",
    "\n",
    "np.sqrt(mean_squared_error(y_test['VWAP'],y_test['forecast_arima']))"
   ]
  },
  {
   "cell_type": "code",
   "execution_count": 173,
   "id": "cbebc1a1-9534-4602-a6b3-e23dbfed9076",
   "metadata": {},
   "outputs": [
    {
     "data": {
      "text/plain": [
       "91.8510246674412"
      ]
     },
     "execution_count": 173,
     "metadata": {},
     "output_type": "execute_result"
    }
   ],
   "source": [
    "mean_absolute_error(y_test['VWAP'],y_test['forecast_arima'])"
   ]
  },
  {
   "cell_type": "code",
   "execution_count": null,
   "id": "a2cbbdaf-b356-4e76-a6a7-dd1a02e522c9",
   "metadata": {},
   "outputs": [],
   "source": []
  }
 ],
 "metadata": {
  "kernelspec": {
   "display_name": "Python 3",
   "language": "python",
   "name": "python3"
  },
  "language_info": {
   "codemirror_mode": {
    "name": "ipython",
    "version": 3
   },
   "file_extension": ".py",
   "mimetype": "text/x-python",
   "name": "python",
   "nbconvert_exporter": "python",
   "pygments_lexer": "ipython3",
   "version": "3.8.8"
  }
 },
 "nbformat": 4,
 "nbformat_minor": 5
}
